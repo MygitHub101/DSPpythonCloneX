{
 "cells": [
  {
   "cell_type": "markdown",
   "metadata": {},
   "source": [
    "<img src=\"https://www.strath.ac.uk/media/1newwebsite/webteam/logos/xUoS_Logo_Horizontal.png.pagespeed.ic.M6gv_BmDx1.png\" width=\"350\" align=\"left\" style=\"left\">"
   ]
  },
  {
   "cell_type": "markdown",
   "metadata": {},
   "source": [
    "# 1. Introduction\n",
    "----\n",
    "This series of notebooks will introduce two important processes used in digital systems:\n",
    "**sampling** and **quantisation**.\n",
    "\n",
    "Nature comprises various energies (e.g. thermal, light, sound, electromagnetic) which can be expressed as electrical signals when appropriately transformed. This process is often performed with a component called a transducer. \n",
    "\n",
    "A microphone is a tranducer which transforms sound energy into electrical energy that can be amplified and then transformed again into sound as it exits your speakers. This is an example of an analogue process. That is, the electrical signal is continuous in time and has infinite precision in amplitude. \n",
    "\n",
    "A digital system has limitations in memory and processing power, therefore discretising a signal in time (sampling) and amplitude (quantisation) is neccessary. By following some rules, we can retain all the neccessary information of the analogue signal when converting between the digital and analogue domains and vice versa. \n",
    "\n",
    "<img src=\"./images/analogue_and_digital_signals.png\" style=\"width: 650px;\"/>"
   ]
  },
  {
   "cell_type": "markdown",
   "metadata": {},
   "source": [
    "## Contents\n",
    "1. [Introduction](01_introduction.ipynb)\n",
    "2. [Sampling](02_sampling.ipynb)       \n",
    "    2.1 Sampling - How Fast?    \n",
    "    2.2 Sampling Theorem    \n",
    "    2.3 Aliasing    \n",
    "    2.4 Reconstructing an Analogue Signal    \n",
    "    2.5 Zero Order Hold\n",
    "3. [Quantisation](03_quantisation.ipynb)\n",
    "\n",
    "| | [Next ➡️](02_sampling.ipynb) \n",
    "\n",
    "----\n",
    "----"
   ]
  }
 ],
 "metadata": {
  "kernelspec": {
   "display_name": "Python 3",
   "language": "python",
   "name": "python3"
  },
  "language_info": {
   "codemirror_mode": {
    "name": "ipython",
    "version": 3
   },
   "file_extension": ".py",
   "mimetype": "text/x-python",
   "name": "python",
   "nbconvert_exporter": "python",
   "pygments_lexer": "ipython3",
   "version": "3.8.5"
  }
 },
 "nbformat": 4,
 "nbformat_minor": 4
}
