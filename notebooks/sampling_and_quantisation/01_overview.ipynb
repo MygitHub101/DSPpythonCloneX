{
 "cells": [
  {
   "cell_type": "markdown",
   "metadata": {},
   "source": [
    "<img src=\"../../strathclyde_banner.png\\\" alt=\"University of Strathclyde\" width=\"100%\"/>"
   ]
  },
  {
   "cell_type": "markdown",
   "metadata": {},
   "source": [
    "# 1. Overview\n",
    "----\n",
    "This series of notebooks will introduce two important processes used in digital systems:\n",
    "**sampling** and **quantisation**.\n",
    "\n",
    "Nature comprises various energies (e.g. thermal, light, sound, electromagnetic) which can be expressed as electrical signals when appropriately transformed. This process is often performed with a component called a transducer. \n",
    "\n",
    "A microphone is a tranducer which transforms sound energy into electrical energy that can be amplified and then transformed again into sound as it exits your speakers. This is an example of an **analogue** process. That is, the electrical signal is continuous in time and has infinite precision in amplitude. \n",
    "\n",
    "A **digital** system has limitations in memory and processing power, therefore discretising a signal in time (**sampling**) and amplitude (**quantisation**) is neccessary. By following some rules, we can retain all the requisite information of the analogue signal when converting between the digital and analogue domains. \n",
    "\n",
    "<a class=\"anchor\" id=\"fig-1\"></a>\n",
    "<figure>\n",
    "<img \n",
    "src=\"./images/analogue_and_digital_signals.png\" style=\"width: 650px;\"/>\n",
    "    <figcaption><b>Figure 1: </b></figcaption>\n",
    "</figure>"
   ]
  },
  {
   "cell_type": "markdown",
   "metadata": {},
   "source": [
    "## Table of Contents\n",
    "1. [Overview](01_introduction.ipynb)\n",
    "2. [Sampling](02_sampling.ipynb)    \n",
    "    [2.1 Introduction](02_sampling.ipynb#introduction)    \n",
    "    [2.2 Sampling - How Fast?](02_sampling.ipynb#sampling_how_fast)    \n",
    "    [2.3 Sampling Theorem](02_sampling.ipynb#sampling_theorem)    \n",
    "    [2.4 Aliasing](02_sampling.ipynb#aliasing)    \n",
    "    [2.5 Anti-Aliasing](02_sampling.ipynb#anti_aliasing)    \n",
    "    [2.6 Reconstructing an Analogue Signal](02_sampling.ipynb#reconstructing_signal)    \n",
    "    [2.7 Zero Order Hold](02_sampling.ipynb#zero_order_hold)    \n",
    "3. [Quantisation](03_quantisation.ipynb)    \n",
    "    [2.1 Introduction](03_quantisation.ipynb#introduction) \n",
    "\n",
    "| | [Next ➡️](02_sampling.ipynb) \n",
    "\n",
    "----\n",
    "----"
   ]
  }
 ],
 "metadata": {
  "kernelspec": {
   "display_name": "Python 3",
   "language": "python",
   "name": "python3"
  },
  "language_info": {
   "codemirror_mode": {
    "name": "ipython",
    "version": 3
   },
   "file_extension": ".py",
   "mimetype": "text/x-python",
   "name": "python",
   "nbconvert_exporter": "python",
   "pygments_lexer": "ipython3",
   "version": "3.8.5"
  }
 },
 "nbformat": 4,
 "nbformat_minor": 4
}
