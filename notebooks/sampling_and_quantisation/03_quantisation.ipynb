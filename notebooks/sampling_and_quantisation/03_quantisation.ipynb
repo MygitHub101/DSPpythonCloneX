{
 "cells": [
  {
   "cell_type": "markdown",
   "metadata": {},
   "source": [
    "<img src=\"../../strathclyde_banner.png\\\" alt=\"University of Strathclyde\" width=\"100%\"/>"
   ]
  },
  {
   "cell_type": "markdown",
   "metadata": {},
   "source": [
    "Thank you for using the DSP educational notebooks. These notebooks are still a work in progress. Please come back later when they are updated.\n",
    "\n",
    "You can check for updates at the [GitHub repository](https://github.com/strath-sdr/dsp_notebooks)."
   ]
  },
  {
   "cell_type": "markdown",
   "metadata": {},
   "source": [
    "# 3. Quantisation\n",
    "----\n",
    "## Table of Contents\n",
    "\n",
    "\n",
    "## 3.1 Introduction<a class=\"anchor\" id=\"introduction\"></a>"
   ]
  },
  {
   "cell_type": "markdown",
   "metadata": {},
   "source": [
    "[⬅️ Previous](02_sampling.ipynb) | |\n",
    "\n",
    "----\n",
    "----"
   ]
  }
 ],
 "metadata": {
  "kernelspec": {
   "display_name": "Python 3",
   "language": "python",
   "name": "python3"
  },
  "language_info": {
   "codemirror_mode": {
    "name": "ipython",
    "version": 3
   },
   "file_extension": ".py",
   "mimetype": "text/x-python",
   "name": "python",
   "nbconvert_exporter": "python",
   "pygments_lexer": "ipython3",
   "version": "3.8.5"
  }
 },
 "nbformat": 4,
 "nbformat_minor": 4
}
