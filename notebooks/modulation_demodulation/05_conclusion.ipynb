{
 "cells": [
  {
   "cell_type": "markdown",
   "metadata": {},
   "source": [
    "<img src=\"images/strathclyde_banner.png\" width=\"50%\" align=\"left\" style=\"left\">"
   ]
  },
  {
   "cell_type": "markdown",
   "metadata": {},
   "source": [
    "# 5. Conclusion <a class=\"anchor\" id=\"conclusion\"></a>"
   ]
  },
  {
   "cell_type": "markdown",
   "metadata": {},
   "source": [
    "Through this series of notebooks we have explored several modulation schemes, from simple amplitude modulation to a complex implementation of the QAM architecture."
   ]
  },
  {
   "cell_type": "markdown",
   "metadata": {},
   "source": [
    "For AM we have seen that by taking a low frequency baseband information signal and mixing with a high frequency carrier we are able to transmit a modulated signal over an RF antenna. At the receiver, if the carrier frequency is known the original signal can be perfectly reconstructed in frequency. A cost must be paid for this scheme however, and the reconstructed signal is found to be half the amplitude of the input signal. Phase errors have also been explored, showing that attentuation by a factor of $\\cos(\\theta)$ is introduced to the reconstructed signal. "
   ]
  },
  {
   "cell_type": "markdown",
   "metadata": {},
   "source": [
    "QAM modulation was then introduced to solve the bandwidth inefficiency of the AM scheme. QAM involves using the laws of orthogonality to transmit two information signals using a single complex carrier. The first signal was mixed with a sine wave at $f_{c}$ Hz, and a second signal was independantly modulated on to a cosine wave also at $f_{c}$ Hz. This put the two information signals 90 degrees out of phase, allowing for more bandwidth efficient transmission. At the receiver, we saw that the same sine and cosine carriers could be used to perfectly demodulate the signals, as with AM. As before, the effects of a phase shift were explored. When the sine and cosine carriers were not orthogonal the two information signals became mixed and it became impossible to successfully demodulate the signals without a DSP receiver specially designed to calculate these phase errors and unmix the signals."
   ]
  },
  {
   "cell_type": "markdown",
   "metadata": {},
   "source": [
    "Finally, a complex form of the QAM architecture was explored. We discovered that this form was mathematically identical to the standard QAM model, however the complex representation is an easier architecture to work with, and working with complex exponentials is much easier and more tractable than working with the cosine and standard QAM form."
   ]
  },
  {
   "cell_type": "markdown",
   "metadata": {},
   "source": [
    "[⬅️ Previous Notebook](03_QAM_modulation.ipynb) | | [Return Home ➡️](strath-sdr/RFSoC Studio Hub.ipynb)\n",
    "\n",
    "----\n",
    "----"
   ]
  }
 ],
 "metadata": {
  "kernelspec": {
   "display_name": "Python 3",
   "language": "python",
   "name": "python3"
  },
  "language_info": {
   "codemirror_mode": {
    "name": "ipython",
    "version": 3
   },
   "file_extension": ".py",
   "mimetype": "text/x-python",
   "name": "python",
   "nbconvert_exporter": "python",
   "pygments_lexer": "ipython3",
   "version": "3.6.5"
  }
 },
 "nbformat": 4,
 "nbformat_minor": 4
}
