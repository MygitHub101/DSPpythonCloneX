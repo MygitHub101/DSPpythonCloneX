{
 "cells": [
  {
   "cell_type": "markdown",
   "metadata": {},
   "source": [
    "<img src=\"../strathclyde_banner.png\" alt=\"University of Strathclyde\" align=\"left\">"
   ]
  },
  {
   "cell_type": "markdown",
   "metadata": {},
   "source": [
    "# Modulation and Demodulation\n",
    "\n",
    "In this series of notebooks we will cover the modulation of a baseband signal to an allocated Intermediate Frequency (IF) or Radio Frequency (RF) band for transmission and show how this original signal can be perfectly reconstructed at the receiver using demodulation, so long as the carrier frequency is known. This will be explored first through a simple Amplitude Modulation and Demodulation example, before exploring how bandwidth efficiency can be improved using Quadrature Amplitude Modulation (QAM). The series will conclude by exploring a complex representation of the QAM architecture and show how this is mathematically identical to the standard QAM form whilst being easier to work with. \n",
    "\n",
    "At each stage we will be observing the signals in the time and frequency domains to understand their properties. Spectrum analysis is a key part of wireless communications and can be learned about in more detail from this [Spectrum Analysis notebook](./01_spectrum_analysis.ipynb).\n",
    "\n",
    "## Table of Contents\n",
    "\n",
    "* [1. Introduction](#introduction)\n",
    "* [2. Amplitude Modulation and Demodulation](02_amplitude_modulation.ipynb)\n",
    "* [3. QAM and QAM Demodulation](03_QAM_modulation.ipynb)\n",
    "* [4. Complex Representation of QAM](04_complex_QAM.ipynb)\n",
    "* [5. Conclusion](05_conclusion.ipynb)"
   ]
  },
  {
   "cell_type": "markdown",
   "metadata": {},
   "source": [
    "## 1. Introduction <a class=\"anchor\" id=\"introduction\"></a>\n",
    "\n",
    "Modulating (or mixing) is the process of combining two signals through multiplication. Modulation is the shifting of an information signal into an allocated frequency band. Demodulation is the reverse process, where information is translated back to baseband. This process is highlighted in [Figure 1](#fig-1)."
   ]
  },
  {
   "cell_type": "markdown",
   "metadata": {},
   "source": [
    "<a class=\"anchor\" id=\"fig-1\"></a>\n",
    "<figure>\n",
    "<img src='./images/Mod_demod.png' height='50%' width='50%'/>\n",
    "    <figcaption><b>Figure 1: Overview of Modulation and Demodulation</b></figcaption>\n",
    "</figure>"
   ]
  },
  {
   "cell_type": "markdown",
   "metadata": {},
   "source": [
    "At the transmitter, baseband information can be modulated or mixed to a carrier frequency, which may typically be in the range 10’s of MHz to multiple GHz.. At the receiver this modulated signal can be demodulated or mixed from the carrier frequency back to baseband. \n",
    "\n",
    "There are several modulation schemes which allow for this process. This notebook will first give an introduction to the required steps using simple Amplitude Modulation before introducing the popular Quadrature Amplitude Modulation scheme, used by many modern radio communications systems. "
   ]
  },
  {
   "cell_type": "markdown",
   "metadata": {},
   "source": [
    "[⬅️ Return Home](strath-sdr/RFSoC Studio Hub.ipynb) | | [Next Notebook ➡️](02_amplitude_modulation.ipynb)\n",
    "\n",
    "----\n",
    "----"
   ]
  }
 ],
 "metadata": {
  "kernelspec": {
   "display_name": "Python 3",
   "language": "python",
   "name": "python3"
  },
  "language_info": {
   "codemirror_mode": {
    "name": "ipython",
    "version": 3
   },
   "file_extension": ".py",
   "mimetype": "text/x-python",
   "name": "python",
   "nbconvert_exporter": "python",
   "pygments_lexer": "ipython3",
   "version": "3.6.5"
  }
 },
 "nbformat": 4,
 "nbformat_minor": 4
}