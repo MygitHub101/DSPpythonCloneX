{
 "cells": [
  {
   "cell_type": "markdown",
   "metadata": {},
   "source": [
    "<img src=\"../../strathclyde_banner.png\" alt=\"University of Strathclyde\" width=\"100%\">"
   ]
  },
  {
   "cell_type": "markdown",
   "metadata": {},
   "source": [
    "# OFDM Transceiver\n",
    "\n",
    "Following on from OFDM Fundamentals, this notebook introduces the major components of an OFDM transceiver. This includes a demonstration of multipath channel estimation and the one-tap equaliser. \n",
    "\n",
    "## Aims \n",
    "\n",
    "* Review major steps in OFDM transmitter \n",
    "* Pass signal through multipath channel and add AWGN noise \n",
    "* Review major steps in OFDM receiver \n",
    "* Demonstrate channel estimation and the one-tap equaliser\n",
    "\n",
    "##  Table of Contents \n",
    "\n",
    "* [1. Introduction](#introduction)\n",
    "* [2. OFDM Transmitter](#ofdmtx)\n",
    "   * [2.1 Training Symbol Generation](#training)\n",
    "   * [2.2 OFDM Symbol Generation](#data)\n",
    "* [3. Wireless Channel](#channel)\n",
    "* [4. OFDM Receiver](#ofdmrx)\n",
    "   * [4.1 Channel Estimation](#chanest)"
   ]
  },
  {
   "cell_type": "markdown",
   "metadata": {},
   "source": [
    "## 1. Introduction <a class=\"anchor\" id=\"introduction\"></a>"
   ]
  },
  {
   "cell_type": "markdown",
   "metadata": {},
   "source": [
    "In this notebook, an overview of the main steps in an OFDM transceiver are provided. On the transmit side, this includes symbol generation, IFFT modulation and Cyclic Prefix (CP) addition. The OFDM signal is then passed through a baseband channel model, including multipath channel filter and Additive White Gaussian Noise (AWGN). The receiver stages include CP removal, FFT demodulation, channel estimation and one-tap equalisation. In order to assess the quality of the received signal, we inspect the received constellations before and after equalisation and measure Error Vector Magnitude (EVM). \n",
    "\n",
    "We will also mention some important aspects of the OFDM transceiver which are not explicitly covered in this notebook, such as timing and and frequency synchronisation. However, these stages are included in the accompanying RFSoC OFDM demonstration.   "
   ]
  },
  {
   "cell_type": "markdown",
   "metadata": {},
   "source": [
    "## 2. OFDM Transmitter <a class=\"anchor\" id=\"ofdmtx\"></a>\n",
    "\n",
    "In this sections, we will demonstrate some of the main steps in an OFDM transmitter. Firstly, let's import the necessary libraries and helper functions:"
   ]
  },
  {
   "cell_type": "code",
   "execution_count": 46,
   "metadata": {},
   "outputs": [],
   "source": [
    "# Import necessary libraries \n",
    "import numpy as np\n",
    "import matplotlib.pyplot as plt\n",
    "import math\n",
    "from scipy import signal\n",
    "\n",
    "# Import helper function\n",
    "from helper_functions import symbol_gen, psd, \\\n",
    "frequency_plot, scatterplot, calculate_evm, awgn"
   ]
  },
  {
   "cell_type": "markdown",
   "metadata": {},
   "source": [
    "[Figure 2.1](#fig-2.1) shows the stages of the OFDM transmitter that will be demonsrated in this notebook:"
   ]
  },
  {
   "cell_type": "markdown",
   "metadata": {},
   "source": [
    "<a class=\"anchor\" id=\"fig-2.1\"></a>\n",
    "<figure>\n",
    "<img src=\"images/ofdm_tx_3 copy.svg\" style=\"width: 1000px;\"/> \n",
    "    <figcaption><b>Figure 2.1: OFDM Transmitter</b></figcaption>\n",
    "</figure>    "
   ]
  },
  {
   "cell_type": "markdown",
   "metadata": {},
   "source": [
    "This is very similar to the final OFDM transmitter diagram shown in the OFDM fundamentals notebook. However, we have now addded a sub-carrier mapping stage after symbol generation. This is necessary because in real OFDM systems, only particular sub-carriers are used to carry data. The remaining sub-carriers are used to carry pilots for phase tracking and channel estimation in the receiver and null sub-carriers to relax the requirements for anti-imaging and anti-aliasing filters in the transmitter and receiver respectively.  \n",
    "\n",
    "In the RFSoC OFDM demonstration notebook, the OFDM symbol structure and mapping of pilots and null sub-carriers is based on the IEEE 802.11a/g (Wi-Fi) standard. In this notebook, we will restrict ourselves to the addition of null sub-carriers, since we will not demonstrate phase tracking and will use a special training symbol for channel estimation. The implementation of phase tracking can be seen in the RFSoC demonstration notebook.   \n",
    "\n",
    "Let's set some important OFDM parameters: "
   ]
  },
  {
   "cell_type": "code",
   "execution_count": 47,
   "metadata": {},
   "outputs": [],
   "source": [
    "fs = 20e6 # Sampling rate \n",
    "N = 64 # No. of sub-carriers "
   ]
  },
  {
   "cell_type": "markdown",
   "metadata": {},
   "source": [
    "### 2.1 Training Symbol Generation <a class=\"anchor\" id=\"training\"></a>\n",
    "\n",
    "As mentioned previously, channel estimation will be performed using special training symbol known to both transmitter and receiver. This will be based on the Legacy Long Training Field (L-LTF) used in the IEEE 802.11a/g standard. In the standard, the L-LTF consists of two training OFDM symbols (each with length $N$ = 64) preceded by a 32 sample CP. As a result, it is 160 samples long.  \n",
    "\n",
    "The generation of the L-LTF is based on the following sequence:"
   ]
  },
  {
   "cell_type": "code",
   "execution_count": 48,
   "metadata": {},
   "outputs": [],
   "source": [
    "#L-LTF sequence\n",
    "LTFseq = np.array([0,0,0,0,0,0,1,1,-1,\\\n",
    "                  -1,1,1,-1,1,-1,1,1,1,\\\n",
    "                  1,1,1,-1,-1,1,1,-1,1,\\\n",
    "                  -1,1,1,1,1,0,1,-1,-1,\\\n",
    "                  1,1,-1,1,-1,1,-1,-1,\\\n",
    "                  -1,-1,-1,1,1,-1,-1,1,\\\n",
    "                  -1,1,-1,1,1,1,1,0,0,0,\\\n",
    "                  0,0])"
   ]
  },
  {
   "cell_type": "markdown",
   "metadata": {},
   "source": [
    "In reference to [Figure 2.1](#fig-2.1), we have already completed the symbol generation and sub-carrier mapping stages. A total of 52 Binary Phase Shift Keying (BPSK) symbols have been generated (1,-1) and have been mapped to 52 OFDM sub-carriers. The remaining 12 sub-carriers are set to zero and these are the null sub-carriers. This includes the DC sub-carrier at the centre of the spectrum, 6 on the left edge of the frequency band and 5 on the right edge.   \n",
    "\n",
    "We can now perform the IFFT to generate the training symbol:"
   ]
  },
  {
   "cell_type": "code",
   "execution_count": 49,
   "metadata": {},
   "outputs": [],
   "source": [
    "LTFsymb = np.fft.ifft(np.fft.fftshift(LTFseq),N)"
   ]
  },
  {
   "cell_type": "markdown",
   "metadata": {},
   "source": [
    "An FFT shift is performed to map the symbols to the correct IFFT bins. This is because the IFFT operates from 0 to $f_{s}$, whereas the sub-carriers are mapped assuming a frequency range $-f_{s}/2$ to $f_{s}/2$.  "
   ]
  },
  {
   "cell_type": "markdown",
   "metadata": {},
   "source": [
    "Finally, to generate the L-LTF, we repeat the symbol twice and add a 32 sample CP. "
   ]
  },
  {
   "cell_type": "code",
   "execution_count": 50,
   "metadata": {},
   "outputs": [],
   "source": [
    "# Extract 32 sample CP \n",
    "LTFcp = LTFsymb[32:64]\n",
    "\n",
    "# Concatenate to form L-LTF\n",
    "LLTF = np.concatenate((LTFcp, LTFsymb, LTFsymb))"
   ]
  },
  {
   "cell_type": "markdown",
   "metadata": {},
   "source": [
    "The L-LTF is used for channel estimation in this notebook and in the RFSoC OFDM demonstration. However, it can also be used for fine timing synchronisation, fine frequency synchronisation and integer frequency offset estimation in the receiver. In the IEEE 802.11a/g standard, another training symbol called the Legacy Short Training Field (L-STF) is also used. This will not be covered here. However, it is used for timing synchronisation and frequency offset estimation in the RFSoC OFDM demonstration system.   "
   ]
  },
  {
   "cell_type": "markdown",
   "metadata": {},
   "source": [
    "### 2.2 OFDM Symbol Generation <a class=\"anchor\" id=\"data\"></a>"
   ]
  },
  {
   "cell_type": "markdown",
   "metadata": {},
   "source": [
    "Having created the L-LTF, we will now go on to generate our data payload. This consists of a variable number of OFDM symbols carrying randomly generated (BPSK,QPSK,16-QAM) data symbols. We will add a CP of length $N/4 = 16$ samples to each OFDM symbol.\n",
    "Lets generate a block of $N_{ofdm}N_{data}$ data symbols, where $N_{ofdm}$ is the number of OFDM symbols in the payload and $N_{data}$ is the number of data carrying sub-carriers:  "
   ]
  },
  {
   "cell_type": "code",
   "execution_count": 51,
   "metadata": {},
   "outputs": [],
   "source": [
    "n_ofdm = 2 # No. of OFDM symbols\n",
    "n_data = 52 # No. of data sub-carriers\n",
    "nsym = n_ofdm * n_data # No. of data symbols\n",
    "mod_scheme = 'QPSK' #Modulation scheme\n",
    "\n",
    "# Generate data symbols\n",
    "data = symbol_gen(nsym,mod_scheme)"
   ]
  },
  {
   "cell_type": "markdown",
   "metadata": {},
   "source": [
    "We will now perform sub-carrier mapping and IFFT mdoualtion to obtain the OFDM symbols. The data symbols will be mapped in the same manner as the L-LTF sequence and there will be null sub-carriers at DC and on the band edges."
   ]
  },
  {
   "cell_type": "code",
   "execution_count": 52,
   "metadata": {},
   "outputs": [],
   "source": [
    "# Indices for data sub-carriers \n",
    "ind_1 = np.arange(start=6, stop=32)\n",
    "ind_2 = np.arange(start=33, stop=59)\n",
    "index = np.concatenate((ind_1, ind_2), axis=0)\n",
    "\n",
    "# Initialisation of array to hold OFDM symbols \n",
    "ofdm_data = np.zeros(n_ofdm*N,np.complex64)\n",
    "j = 0 \n",
    "k = 0 \n",
    "\n",
    "for i in range(n_ofdm):\n",
    "    \n",
    "    # Initialise array to hold data and null sub-carriers\n",
    "    # (all null to begin with)\n",
    "    sc_array = np.zeros(N,np.complex64)\n",
    "    \n",
    "    # Map data symbols to correct sub-carrier positions\n",
    "    sc_array[index] = data[j:j+n_data] \n",
    "    \n",
    "    # Perform IFFT modulation\n",
    "    ofdm_data[k:k+N] = np.fft.ifft(np.fft.fftshift(sc_array),N) \n",
    "    \n",
    "    # Increment\n",
    "    j = j + n_data\n",
    "    k = k + N"
   ]
  },
  {
   "cell_type": "markdown",
   "metadata": {},
   "source": [
    "We will now add the 16 sample CP to the beginning of each OFDM symbol:"
   ]
  },
  {
   "cell_type": "code",
   "execution_count": 53,
   "metadata": {},
   "outputs": [],
   "source": [
    "# Define function to add CP \n",
    "def add_cp(ofdm_symb,N,cp_len):\n",
    "    \n",
    "    #Extract CP\n",
    "    cp = ofdm_symb[N-cp_len:N:1]\n",
    "    \n",
    "    # Concatenate CP and symbol \n",
    "    ofdm_symb_cp = np.concatenate((cp,ofdm_symb))\n",
    "    \n",
    "    return ofdm_symb_cp\n",
    "\n",
    "cp_len = N // 4 # CP length is 1/4 of symbol period\n",
    "\n",
    "# Add CP to each of the ofdm symbols \n",
    "ofdm_data_cp = np.zeros(n_ofdm*(N+cp_len),np.complex64)\n",
    "j = 0\n",
    "k = 0 \n",
    "\n",
    "for i in range(n_ofdm):    \n",
    "    ofdm_data_cp[k:(k+N+cp_len)] = add_cp(ofdm_data[j:j+N],N,cp_len)\n",
    "    j = j + N  \n",
    "    k = k + N + cp_len "
   ]
  },
  {
   "cell_type": "markdown",
   "metadata": {},
   "source": [
    "In order to create the final transmit signal, we attach the L-LTF at the beginning of the data payload. As such, the L-LTF is transmitted first:"
   ]
  },
  {
   "cell_type": "code",
   "execution_count": 54,
   "metadata": {},
   "outputs": [],
   "source": [
    "# Concatenate L-LTF and data payload to form final transmit signal \n",
    "txSig = np.concatenate((LLTF,ofdm_data_cp))"
   ]
  },
  {
   "cell_type": "markdown",
   "metadata": {},
   "source": [
    "## 3. Wireless Channel <a class=\"anchor\" id=\"channel\"></a>"
   ]
  },
  {
   "cell_type": "markdown",
   "metadata": {},
   "source": [
    "At this stage, we will pass the OFDM signal through a baseband model of the wireless channel. The channel is comprised of a multipath filter and AWGN as illustrated below:  "
   ]
  },
  {
   "cell_type": "markdown",
   "metadata": {},
   "source": [
    "<a class=\"anchor\" id=\"fig-3.1\"></a>\n",
    "<figure>\n",
    "<img src=\"images/channel copy.svg\" style=\"width: 700px;\"/> \n",
    "    <figcaption><b>Figure 3.1: Baseband Channel Model </b></figcaption>\n",
    "</figure>"
   ]
  },
  {
   "cell_type": "markdown",
   "metadata": {},
   "source": [
    "For the multipath channel filter, we will employ a standard 4-tap FIR filter with complex weights drawn from a zero mean normal distribution. This is the procedure used to simulate a Rayleigh Fading channel. With a 4 tap FIR, $d_{s}$ is equal to 3 sampling periods, meaning that the CP of length 16 is more than sufficient."
   ]
  },
  {
   "cell_type": "code",
   "execution_count": 55,
   "metadata": {},
   "outputs": [],
   "source": [
    "# Filter coefficients\n",
    "ntap = 4\n",
    "h = np.random.randn(ntap) + 1j*np.random.randn(ntap)\n",
    "\n",
    "# Appy channel filter \n",
    "txSig_filt = np.convolve(txSig, h)"
   ]
  },
  {
   "cell_type": "markdown",
   "metadata": {},
   "source": [
    "The AWGN is added with a power that is calculated based on a desired SNR: "
   ]
  },
  {
   "cell_type": "code",
   "execution_count": 56,
   "metadata": {},
   "outputs": [],
   "source": [
    "SNR = 35 # Desired SNR (dB) \n",
    "rxSig = awgn(txSig_filt,SNR)"
   ]
  },
  {
   "cell_type": "markdown",
   "metadata": {},
   "source": [
    "## 4. OFDM Receiver <a class=\"anchor\" id=\"ofdmrx\"></a>\n",
    "\n",
    "An illustration of the OFDM receiver steps is shown below: \n"
   ]
  },
  {
   "cell_type": "markdown",
   "metadata": {},
   "source": [
    "<a class=\"anchor\" id=\"fig-4.1\"></a>\n",
    "<figure>\n",
    "<img src=\"images/ofdm_rx copy.svg\" style=\"width: 1000px;\"/> \n",
    "    <figcaption><b>Figure 7.1: OFDM Receiver</b></figcaption>\n",
    "</figure>"
   ]
  },
  {
   "cell_type": "markdown",
   "metadata": {},
   "source": [
    "We will strart by extracting the L-LTF symbols and demodulate them using the FFT. These will be used for channel estimation purposes. In this example, we know the exact timing of the beginning of each symbol. However, in practice, this is unknown and an appropriate timing synchronisation algorithm must be used to acquire symbol timing.\n",
    "\n",
    "The beginning of the first L-LTF OFDM symbol is sample 33 i.e. immediately after the 32 sample CP: "
   ]
  },
  {
   "cell_type": "code",
   "execution_count": 57,
   "metadata": {},
   "outputs": [],
   "source": [
    "# Extract received L-LTF OFDM symbols \n",
    "rx_LLTF_symb_1 = rxSig[33:97]\n",
    "rx_LLTF_symb_2 = rxSig[97:161]"
   ]
  },
  {
   "cell_type": "markdown",
   "metadata": {},
   "source": [
    "Let's now take the FFT of each of them to recover the transmitted sequences: "
   ]
  },
  {
   "cell_type": "code",
   "execution_count": 58,
   "metadata": {},
   "outputs": [],
   "source": [
    "LLTF_symb_1_demod = np.fft.fftshift(np.fft.fft(rx_LLTF_symb_1,N))\n",
    "LLTF_symb_2_demod = np.fft.fftshift(np.fft.fft(rx_LLTF_symb_2,N))"
   ]
  },
  {
   "cell_type": "markdown",
   "metadata": {},
   "source": [
    "Ok, we'll leave these for now and return to them when we do channel estimation. Now let's extract the data payload OFDM symbols and perform FFTs to recover the underlying data symbols. The CP is removed because it does not contain any information:"
   ]
  },
  {
   "cell_type": "code",
   "execution_count": 29,
   "metadata": {},
   "outputs": [],
   "source": [
    "# Function to demodulate OFDM \n",
    "def ofdm_demod(ofdm_rx,N,cp_len):\n",
    "    \n",
    "    # Renove CP \n",
    "    ofdm_u = ofdm_rx[cp_len:(N+cp_len)]\n",
    "    \n",
    "    # Perform FFT \n",
    "    data = np.fft.fft(ofdm_u,N)\n",
    "    \n",
    "    return data\n",
    "\n",
    "# Array to hold recovered  data symbols  \n",
    "data_rx = np.zeros(n_ofdm*N,np.complex64)\n",
    "j = 0\n",
    "k = 0 \n",
    "\n",
    "# Extract data payload (after end of L-LTF)\n",
    "L = len(rxSig)\n",
    "rxPayload = rxSig[160:L:1]\n",
    "\n",
    "# Demodulate OFDM symbols in payload \n",
    "for i in range(n_ofdm):\n",
    "    data_rx[j:j+N] = ofdm_demod(rxPayload[k:(k+N+cp_len)],N,cp_len)\n",
    "    j = j + N\n",
    "    k = k + N + cp_len "
   ]
  },
  {
   "cell_type": "markdown",
   "metadata": {},
   "source": [
    "### 4.1 Channel Estimation <a class=\"anchor\" id=\"chanest\"></a>\n",
    "\n",
    "To be completed...."
   ]
  }
 ],
 "metadata": {
  "kernelspec": {
   "display_name": "Python 3",
   "language": "python",
   "name": "python3"
  },
  "language_info": {
   "codemirror_mode": {
    "name": "ipython",
    "version": 3
   },
   "file_extension": ".py",
   "mimetype": "text/x-python",
   "name": "python",
   "nbconvert_exporter": "python",
   "pygments_lexer": "ipython3",
   "version": "3.8.3"
  }
 },
 "nbformat": 4,
 "nbformat_minor": 4
}
