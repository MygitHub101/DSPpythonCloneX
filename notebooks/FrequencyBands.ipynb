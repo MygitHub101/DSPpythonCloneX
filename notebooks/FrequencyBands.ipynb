{
 "cells": [
  {
   "cell_type": "markdown",
   "metadata": {},
   "source": [
    "# Frequency Bands and Transmission Safety\n",
    "\n",
    "This notebook will be focused on the advantages of using RFSoC for Radio and Software Defined Radio (SDR), as well as covering relevent frequency bands with respect to the RFSoC and common uses for such bands. Time will also be spent covering Nyquist zones and how these relate to the relavent frequency bands.\n",
    "\n",
    "Additionally, this notebook will introduce transmission saftey - becoming aware of licensed and unlicensed frequency bands as well as environmental frequency concerns. "
   ]
  },
  {
   "cell_type": "markdown",
   "metadata": {},
   "source": [
    "## Introduction to the Radio Frequency (RF) band\n",
    "\n",
    "**Radio Fundamentals**\n",
    "\n",
    "Radio systems convey information on a Radio Frequency (RF) band. A standard transmitter and receiver setup can be seen in the diagram below.\n",
    "\n",
    "*transmitter receiver diagram*\n",
    "\n",
    "Such a system works by modulating a low frequency baseband signal to a desired RF frequency at the transmitter side and by demodulating from the RF frequency back to the baseband signal at the receiver. \n",
    "\n",
    "*modulation diagram*\n",
    "\n",
    "More information on modulation and demodulation can be found at this [notebook](./Modulation_Demodulation.ipynb)."
   ]
  },
  {
   "cell_type": "markdown",
   "metadata": {},
   "source": [
    "**RF in Daily Life**\n",
    "\n",
    "Wireless communications via RF is now an essential part of life for many people. Whether it is wireless network access in offices, mobile basestation backhaul, consumers texting, using voice and video communications or social media, it is likely at some point that they will be communicating over various frequency bands using standards such as Bluetooth, WiFi, GSM, and LTE. Planning and licensing is required in order to set rules about power levels, and ensure that interference does not occur between different broadcasters. In the UK, these frequency planning and licensing tasks fall upon a government approved body called the office of Communications (Ofcom - https://www.ofcom.org.uk/home). The USA has the Federal Communications Commission (FCC - https://www.fcc.gov/); and other countries have their own national agencies. In all countries the RF Spectrum has been split up into a number of defined frequency bands which are allocated to different users and for different application. Generally no two countries are exactly the same in their frequency planning, and there can be considerable differences.\n",
    "\n",
    "To give an example, in the UK there are currently no mobile phone service frequencies below 800 MHz, whereas in some countries in Eastern Europe, they operate down as low as the 400 MHz UHF band. In recent years there have been efforts via organisations such as the International Telecommunications Union (ITU - https://www.itu.int) to harmonise these bands where possible (particularly in areas where countries have borders). \n",
    "\n",
    "An example of successful harmonisation is WiFi (the IEEE 802.11 standard) which operates on the 2.4 GHz band. FM radio is also pretty standard across most countries, in the 88 MHz to 108 MHz band, and nearly all radio stations are spaced at least 200 KHz apart. When frequenies are harmonised, equipment designed to work in one country will likely work in others; which helps bring costs down. \n",
    "\n",
    "Communications techniques where harmonisation is not as prevalent include mobile standards, with, for example, the USA and Europe using quite distinct frequencies for GSM, UMTS and LTE services. Modern phones are now able to address issues like this adequetly however, by being tri- (or even quad-) band, and having the ability to receive and transmit at various frequencies using different front end RF hardware, which can be switched in and out depending on which country it is being used in.\n",
    "\n",
    "5G will see new allocated frequency bands around the world and in particular the wider use of mm-wave frequencies  (26 GHz and higher). Used frequencies will go well above 32 GHz to 80 GHz and higher."
   ]
  },
  {
   "cell_type": "markdown",
   "metadata": {},
   "source": [
    "**The RF Spectrum**\n",
    "\n",
    "Useable radio frequencies for communications start at the low kHz, with AM radio appearing around 600 kHz to 1800 kHz. FM radio, then appears from around 88 MHz, and the useable RF communication spectrum is all of the way to 10's of GHz (so called mm waves noting the wavelength is indeed of millimetres in length).\n",
    "\n",
    "*overview of full spectrum diagram*\n",
    "\n"
   ]
  },
  {
   "cell_type": "markdown",
   "metadata": {},
   "source": [
    "## The Software Defined Radio (SDR)\n",
    "\n",
    "SDR simply refers to the analogue components in a system becoming software based. When software replaces hardware:\n",
    "\n",
    "- Modulators, filters, amplifiers become DSP Software code.\n",
    "\n",
    "\n",
    "- Frequency tuning is done with sine wave look-up tables\n",
    "\n",
    "\n",
    "- Channel selection is done with DSP digital filters\n",
    "\n",
    "\n",
    "- Sample rates are GHz, and soon to be 10's of GHz\n",
    "\n",
    "\n",
    "Full RF sampling requires rates of the order of a few GHz ($10^9$ Hz). Nyquist still applies - must sample at least 2x bandwidth of the signal of interest.\n",
    "\n",
    "*SDR diagram*\n",
    "\n",
    "In the last few years, SDR has gone mainstream with low cost boards and support features for tools such as MATLAB to interface with the boards. Many of the current solutions are using Zynq and other boards with add-on analogue interface cards. In most cases the designs are **IF (Intermediate Frequency) samplers**.\n",
    "\n",
    "There are three identifiable reasons for this mainstream adoption of SDRs: ADC and DAC sample rates, spectrum sharing and low cost IF radio platforms."
   ]
  },
  {
   "cell_type": "markdown",
   "metadata": {},
   "source": [
    "**SDR Driver 1: ADC and DAC Sample Rates**\n",
    "\n",
    "Over the last 40 years, sampling rates have increased in much the same way as processing power with Moore's Law.\n",
    "\n",
    "*Moore's Law sample rates diagram*\n",
    "\n",
    "Current sampling rates of near 10's of GHz allow sampling of RF frequency bands. Tracking the improvement of commercially available devices since the 1960's we can see that sampling rates have increased at a rate of just more than a factor of 10 per decade.\n",
    "\n",
    "A key driver in the 1970's was digital telephony and voiceband (8 KHz / 10 bit) devices. The early and mid-80s brought the beginning of the digital audio revolution with the CD becoming widely available with a sampling rate of 44.1 KHz (an 'odd' number derived from video DACs). By the late 80s and early 90s sigma delta technology had arrived with 'oversampling' devices running at low MHz, before decimating down or interpolating up to baseband audio.\n",
    "\n",
    "By the start of the 1990's and the advent of GSM and 2nd Generation cellular/mobile, voiceband DACs and ADCs were widespread in mobile phones. However extensive development was now going in to IF converters, whereby sampling rates of 40 MHz and higher would digitize signals with frequency content up to half of the sampling rate. \n",
    "\n",
    "By the early 2000s, IF samplers operating at 100's of MHz had arrived, with devices offering multiple channels, 14 bits resolution or more. GHz sample devices became available in the mid 2000s and brought the first real SDR devices to market with the combination of Xilinx FPGA and Analog Devices ADCs/DACs.\n",
    "\n",
    "And then the RFSoC device appeared, bringing single chip SDR to absolute reality, with on chip DACs and ADCs and an on-chip set of processors and programmable logic to implement DSP algorithms."
   ]
  },
  {
   "cell_type": "markdown",
   "metadata": {},
   "source": [
    "**SDR Driver 2: Spectrum Sharing**\n",
    "\n",
    "The frequency spectrum is becoming more democratized and more available. For many years the spectrum has been the preserve of large MNOs (Mobile Network Operators), Government agencies and broadcasters with just a few open bands for unlicensed access (2.4 GHz, 5 GHz). This is beginning to change:\n",
    "\n",
    "- **USA**: TV White Space (TVWS, 400 to 700 MHz), CBRS (Citizen Broadband Radio Service, 3.5 GHz)\n",
    "\n",
    "\n",
    "- **UK**: In the UK in July 2019 Ofcom announced a **use it or share it** policy. Any frequency band leased/owned by an MNO must be made available for sharing if they are not using, nor intending to use it.\n",
    "\n",
    "\n",
    "This creates widespread interest in private networks with disaggregated RAN, tier 1 providers and new entrants to Core and Cloud markets. Shared spectrum private mobile and wireless networks can be built by councils and new entrants to the market, with cloud and core services and connectivity from other new market entrants such as Cisco and AWS.\n",
    "\n",
    "*could do an image here*"
   ]
  },
  {
   "cell_type": "markdown",
   "metadata": {},
   "source": [
    "**SDR Driver 3: Low Cost IF Radio Platforms**\n",
    "\n",
    "There are now many SDR boards, and software support solutions. Most of these are IF Sampling Systems - the RFSoC will be RF Sampling. \n",
    "\n",
    "Some example low cost platforms include:\n",
    "\n",
    "- **Xilinx Zynq-Based Radio**: ZC706, ZedBoard, ADI FMCOMMS1/2/3/4\n",
    "\n",
    "\n",
    "- **Xilinx FPGA-Based Radio**: Virtex-6 ML605, Spartan-6 SP605, ADI FMCOMMS1, Epiq FMC-1Rx\n",
    "\n",
    "\n",
    "- **USRP Radio**: USRP2, N200/210, B200/B210, X300/310\n",
    "\n",
    "\n",
    "- **RTL-SDR Radio**\n",
    "\n",
    "Additionally the radios in our pockets feature many IF sampling systems and implementations. As RF sampling becomes more mainstream we can expect to see first the basestations moving to RF sampling, and at some point in the future user devices will follow. For now however, your phones are crammed full of different radios all running on different processor systems and with multiple IF samplers and ADCs and DACs. \n",
    "\n",
    "**Your daily 8 radios**: GSM, 3G, LTE (10s Mbits/sec), Bluetooth, 802.11 (10s Mbits/sec), FM receiver, GPS and NFC."
   ]
  },
  {
   "cell_type": "markdown",
   "metadata": {},
   "source": [
    "## RFSoC Advantages for Radio\n",
    "\n",
    "Several of the RFSoC architecture features previously discussed give RFSoC devices an advantage over a traditional multi-chip solution for general radio designs:  \n",
    "\n",
    "- **Very wide RF bandwidth**: The RFSoC can directly digitise a range of bands. The high sampling rates (and therefore the wide RF bandwidth) supported by the RFSoC is a significant feature. This means that all-digital radios can be designed with minimal external analogue cicuitry, for systems that cover RF bands up to roughly 4 GHz (and beyond, for the most recent RFSoC generations). This is achieved directly for RF bands up to ~2 GHz and by exploiting Nyquist zones for frequencies between ~2 GHz and ~4 GHz. The use of Nyquist zones will be explained later in this notebook.  \n",
    "\n",
    "\n",
    "- **Supports different radio architectures**: either all-digital or with digital-to-IF for higher bands, to cover any desired RF frequency band. For instance, very high RF frequency bands can be catered to by integrating external modulation and demodulation to convert between IF and RF. \n",
    "\n",
    "\n",
    "- **Multiple Channels**: facilitates sophisticated, MIMO radio designs and enables a single chip to support multiple radios simultaneously. The multiple DAC and ADC channels supported by the RFSoC (8 or 16 of each) means that radio systems for MIMO applications can be developed on a single chip. There is also the potential to implement several radios for different bands and applications.\n",
    "\n",
    "\n",
    "- **Single chip solution**: eases design effort, especially for interfacing, and enables systems with smaller footprint and lower power operation.\n",
    "\n",
    "\n",
    "- **Integrated DUC (filtering and modulation) and DDC (demodulation and filtering)**: reduces design effort and required PL resources, and enables lower power consumption. The integrated DUC and DDC can also support higher sampling rates than would be possible on PL. \n",
    "\n",
    "\n",
    "- **Integrated FEC block**: likewise reduces design effort, PL resource consumption, and power usage. \n",
    "\n",
    "\n",
    "The integration of RF data converters with PL and hardened radio IP blocks is also an advantage for developing radio designs. DUC, DDC, and FEC functionality is commonly required, and it would otherwise need to be implemented in the PL. Particularly in the case of FEC, a considerable amount of PL resources may be needed. Having access to pre-verified and hardened blocks reduces the design effort required, and saves the PL resources that would otherwise be needed to implement them on the PL. It is also notable that the output of the DUC and the input of the DDC operate at the same sampling rates as the RF-DAC and RF-ADC respectively (up to multiple GHz), i.e. much higher rates than could be supported by a DUC and DDC implemented in the PL."
   ]
  },
  {
   "cell_type": "markdown",
   "metadata": {},
   "source": [
    "## RFSoC Key Features for SDR\n",
    "\n",
    "This section considers aspects of the RFSoC's functionality that are especially beneficial for SDR, i.e. beyond the needs of radio in general (which might have fixed functionality once designed). SDR requires the radio to be dynamic and flexible in its operation, under software control.\n",
    "\n",
    "- **Programmable RF sample rate**: caters for different requirements.\n",
    "\n",
    "\n",
    "- **High sample rates**: A wide RF bandwidth enables multiple radio bands to be generated/captured simultaneously. Useful for SDR where dynamic operation is required. Flexibility is further extended by the availability of multiple channels.\n",
    "\n",
    "\n",
    "- **Programmable DUC and DDC parameters**: flexible frequency and decimation/interpolation ratios can be programmed from software.\n",
    "\n",
    "\n",
    "- **Run-time reprogrammability**: Hardware design (on PL) can be designed to be reprogrammable at run-time, e.g. filter coefficients, operating, etc. Beyond this, the full hardware system can be reprogrammed, and Partial Reconfiguration (PR) can be exploited.\n",
    "\n",
    "\n",
    "- **Single chip solution**: The integration of PS applications and real-time processors with PL, data converters and FEC block is ideal for close coupling of software control with hardware processing and RF functionality.\n",
    "\n",
    "\n",
    "The RFSoC provides the means to exert dynamic control over multiple aspects of a radio's functionality. This includes the front end sampling rate and the configuration of the RF data converters, the DUC and DDC behaviour, and also custom modules that may be developed in hardware on the PL. Therefore, the modulation and demodulation frequencies can be dynamically altered, and the behaviour of hardware processing blocks can be controlled from software. Parameters of hardware processing blocks can be altered. Taking this to an extreme, software could also prompt part of or all of the PL to be reprogrammed with a new set of functionality.\n",
    "\n",
    "The integration of the PS with the hardware elements (PL, data converters, hardened DUC, DDC, and FEC blocks) is particularly significant in this respect. The single chip architecture enables software to reside very close to the hardware that it controls, and therefore the feedback loop is much faster than would be possible with a multi-chip solution."
   ]
  },
  {
   "cell_type": "markdown",
   "metadata": {},
   "source": [
    "## Nyquist Zones"
   ]
  },
  {
   "cell_type": "markdown",
   "metadata": {},
   "source": [
    "## Safe Transmission Bands"
   ]
  },
  {
   "cell_type": "markdown",
   "metadata": {},
   "source": [
    "## Environment Safety"
   ]
  },
  {
   "cell_type": "markdown",
   "metadata": {},
   "source": [
    "University Of Strathclyde &copy;"
   ]
  }
 ],
 "metadata": {
  "kernelspec": {
   "display_name": "Python 3",
   "language": "python",
   "name": "python3"
  },
  "language_info": {
   "codemirror_mode": {
    "name": "ipython",
    "version": 3
   },
   "file_extension": ".py",
   "mimetype": "text/x-python",
   "name": "python",
   "nbconvert_exporter": "python",
   "pygments_lexer": "ipython3",
   "version": "3.6.5"
  }
 },
 "nbformat": 4,
 "nbformat_minor": 2
}
