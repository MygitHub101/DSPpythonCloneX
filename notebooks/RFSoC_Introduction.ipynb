{
 "cells": [
  {
   "cell_type": "markdown",
   "metadata": {},
   "source": [
    "# RFSoC Introduction\n",
    "\n",
    "In this series of notebooks, we will introduce the RFSoC hardware and RFSoC relevant transmitter frequency bands.\n",
    "\n",
    "This will be done in three sections:\n",
    "- An overview of the RFSoC device hardware\n",
    "- Frequency bands and Spectrum\n",
    "- Transmitter Safety"
   ]
  },
  {
   "cell_type": "markdown",
   "metadata": {},
   "source": [
    "## RFSoC Device Overview\n",
    "\n",
    "This first notebook will be focused around the archetecture of the RFSoC hardware. The RFSoC is a Zynq System on Chip (SoC) targeted specifically at RF applications. It features a Processing System (PS), Programmable Logic (PL) and specialist RF resources. \n",
    "\n",
    "(Diagram from notes would be ideal here)\n",
    "(Picture of our RFSoC?)\n",
    "\n",
    "The specialist RF resources included in the RFSoC are:\n",
    "- Transmit Blocks: 8 or 16 very high rate RF Digital to Analogue Converters (RF-DACs). These blocks also include Digital Up Converters (DUCs) for increasing the sampling rate and performing modulation. \n",
    "- Receive blocks: 8 or 16 very high rate RF Analogue-to-Digital (RF-ADCs). These blocks feature Digital Down Converters (DDCs) for demodulating the received signal and then reducing the sampling rate.\n",
    "- Soft Decision Forward Error Correction (SD-FEC) blocks: 8 blocks for FEC encoding and/or decoding. These blocks support FEC coding schemes that are commonly used in 4G and 5G mobile standards.\n",
    "\n",
    "There are also hardened resources for high speed wired communications, in the form of GTY Transceiver blocks. These blocks are commonly required for backhaul in wireless networks, namely CPRI (Common Public Radio Interface) and GigE (Gigabit Ethernet).\n",
    "\n",
    "A general overview of the RFSoC device family can be seen from the Xilinx product page:\n",
    "\n",
    "https://www.xilinx.com/products/silicon-devices/soc/rfsoc.html#ProductTable"
   ]
  },
  {
   "cell_type": "markdown",
   "metadata": {},
   "source": [
    "### Notable Features\n",
    "\n",
    "The RFSoC device has a number of notable features which seperate it from a traditional radio transceiver.\n",
    "\n",
    "**Single Chip Integration**\n",
    "\n",
    "The RFSoC integrates DACs and ADCs into the same chip as the processing resources needed to implement a radio transceiver.  \n",
    "\n",
    "Other solutions need at least 2 chips e.g. a Zynq/Zynq MPSoC for signal processing paired with a front end radio transceiver for modulating and demodulating the signal to and from its target RF Frequency. \n",
    "\n",
    "(Image from notes)"
   ]
  },
  {
   "cell_type": "markdown",
   "metadata": {},
   "source": [
    "**High Sample Rate**\n",
    "\n",
    "The RF-ADCs and RF-DACs are both capable of sampling at multiple GHz, providing a very wide RF bandwidth. The RFSoC can directly digitise an RF band from 0 to 2 GHz. \n",
    "\n",
    "(Want a simple demo in here of spectrum analyser, want to show this wide bandwidth in action.)\n",
    "\n",
    "(Is a comparison between RFSoC and much narrower SDR chip possible?)\n"
   ]
  },
  {
   "cell_type": "markdown",
   "metadata": {},
   "source": [
    "**Multiple Channels**\n",
    "\n",
    "Each RFSoC device has multiple channels (8 or 16) of transmit and receive functionality. These can be used for:\n",
    "\n",
    "- Multiple Input Multiple Output (MIMO) systems\n",
    "- Beamforming/Beamsteering\n",
    "\n",
    "MIMO introduces spatial diversity to improve the throughput achievable over a link, because there are multiple transmitters and multiple receivers involved, each with a different position in space.\n",
    "\n",
    "(What can we do in the way of a MIMO/beamforming demo? Is there a notebook that demonstrates this?)\n",
    "\n",
    "Aside from these multi-antenna systems, the 8 or 16 channels of the RFSoC can also be used to support multiple different transmit and receive paths of the same or different radio standards on the same chip. This compares to a conventional solution where several chips would be required. "
   ]
  },
  {
   "cell_type": "markdown",
   "metadata": {},
   "source": [
    "### PS Architecture\n",
    "\n",
    "The RFSoC's Processing System (PS) includes several different types of processing resources. These can be used to implement the software based aspects of an SDR. These resources include:\n",
    "\n",
    "- External Interfaces: local IoT devices, SDR backhaul, networked system control.\n",
    "- Platform Management and security functions: system booting, power management, physical security, SDR comms security.\n",
    "- Dual-core Arm Cortex-R5 real-time processor: low level, deterministic SDR system control and orchestration.\n",
    "- PS local memories, external memory control: Software programs, SDR instructions and data\n",
    "- Quad-core Arm Cortex-A53 applications processor: running operating system, SDR software applications\n",
    "\n",
    "(PS diagram from notes)\n",
    "\n",
    "The four Arm Cortex-A53 processors are capable of running a fully featured Operating System and software applications. In the examples in this course the PYNQ software framework is deployed on the applications processor. More details on PYNQ can be found here: http://www.pynq.io/"
   ]
  },
  {
   "cell_type": "markdown",
   "metadata": {},
   "source": [
    "### PL Architecture \n",
    "\n",
    "The Programmable Logic of the RFSoC is equivalent to that of an FPGA. Most devices in the RFSoC family provide a standard set of resources, including:\n",
    "\n",
    "- High speed, wired interfaces (GTY transceivers, PCIe, 150G Interlaken, 100G Ethernet)\n",
    "- Configurable Logic Blocks (930K logic cells)\n",
    "- DSP Slices (4272)\n",
    "- Block RAM (38 Mb)\n",
    "- Ultra RAM (22.5 Mb)\n",
    "\n",
    "AXI PS-to-PL interconnections enable control and data to pass quickly between the software and hardware systems.\n",
    "\n",
    "(PL Diagram from notes)\n",
    "\n",
    "The PL is where the SDR hardware design will be created. The parallel, programmable nature of the PL is ideal for implementing Digital Signal Processing (DSP) for the physical layer of SDR transmitter and receivers. Hardware subsystems can be desigend for flexible oepration, programmed from software."
   ]
  },
  {
   "cell_type": "markdown",
   "metadata": {},
   "source": [
    "### Data Converters\n",
    "\n",
    "There are two types of RF Data Converters on the RFSoC:\n",
    "\n",
    "Transmit side: An RF-DAC and Digital Up-Converter (DUC). The Interpolators, NCO and sampling rate are programmable. \n",
    "\n",
    "(DAC Diagram)"
   ]
  },
  {
   "cell_type": "markdown",
   "metadata": {},
   "source": [
    "Receive side: An RF-ADC and Digital Down-Converter (DDC), likewise programmable. \n",
    "\n",
    "(ADC Diagram)"
   ]
  },
  {
   "cell_type": "markdown",
   "metadata": {},
   "source": [
    "The sampling rates for the RF-DACs and RF-ADCs are programmable, with maximum and minimum values depending on the RFSoC Generation. For Gen 1, the RF-DACs can operate at sample rates of up to 6.554 Gsps, and the RF-ADCs can operate at up to 4.096 Gsps.\n",
    "\n",
    "The NCO frequency is programmable. When the standard operating mode is used, it represents the RF frequency that the baseband signal is modulated to, and demodulated from.\n",
    "\n",
    "The Interpolators and decimators can be programmed to undertake rate changes of 1 (no rate change), 2, 4 and 8, respectively. Further rate interpolation or decimation can be implemented in the PL."
   ]
  },
  {
   "cell_type": "markdown",
   "metadata": {},
   "source": [
    "### Data Converter Hierarchy\n",
    "\n",
    "**RF-ADCs as tiles**\n",
    "\n",
    "RFSoC devices have either 8 or 16 RF-ADCs, grouped into tiles alongside mixers and decimators. The spec\n",
    "\n",
    "There are two different tile configurations:\n",
    "\n",
    "- Dual RF-ADC tiles: 2x RF-ADCs, 2x mixers, 2x decimators\n",
    "- Quad RF-ADC tiles: 4x RF-ADCs, 4x mixers, 4x decimators\n",
    "\n",
    "(Could create diagram(s) showing these configs)\n",
    "\n",
    "Each RF-ADC tile includes its own Phase Locked Loop (PLL) for managing the sampling clock applied to the RF-ADCs. "
   ]
  },
  {
   "cell_type": "markdown",
   "metadata": {},
   "source": [
    "**Dual RF-ADC Tile**\n",
    "\n",
    "A dual RF-ADC tile supports two RF input channels:\n",
    "\n",
    "(Dual tile diagram)\n",
    "\n"
   ]
  },
  {
   "cell_type": "markdown",
   "metadata": {},
   "source": [
    "**RF-DACs**\n",
    "\n",
    "At the transmit side, the RFSoC contains RF Data Converters in the form of an RF-DAC and Digital Up-Converter (DUC). The Interpolators, NCO and sampling rate involved with this are programmable.\n",
    "\n",
    "These components are arranged in a Quadrature Amplitude Modulation (QAM) architecture. That is, the RF-DAC takes In-Phase (I) and Quadrature (Q) components as a Complex input signal. This architecture can be seen here:\n",
    "\n",
    "(QAM RF-DAC)"
   ]
  },
  {
   "cell_type": "markdown",
   "metadata": {},
   "source": [
    "### SD-FEC Blocks"
   ]
  },
  {
   "cell_type": "code",
   "execution_count": null,
   "metadata": {},
   "outputs": [],
   "source": []
  }
 ],
 "metadata": {
  "kernelspec": {
   "display_name": "Python 3",
   "language": "python",
   "name": "python3"
  },
  "language_info": {
   "codemirror_mode": {
    "name": "ipython",
    "version": 3
   },
   "file_extension": ".py",
   "mimetype": "text/x-python",
   "name": "python",
   "nbconvert_exporter": "python",
   "pygments_lexer": "ipython3",
   "version": "3.6.5"
  }
 },
 "nbformat": 4,
 "nbformat_minor": 2
}
