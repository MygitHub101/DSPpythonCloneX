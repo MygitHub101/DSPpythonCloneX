{
 "cells": [
  {
   "cell_type": "markdown",
   "metadata": {},
   "source": [
    "<img src=\"https://www.strath.ac.uk/media/1newwebsite/webteam/logos/xUoS_Logo_Horizontal.png.pagespeed.ic.M6gv_BmDx1.png\" width=\"350\" align=\"left\" style=\"left\">"
   ]
  },
  {
   "cell_type": "markdown",
   "metadata": {},
   "source": [
    "# 2. Machine Learning-Based Classification\n",
    "\n",
    "## Introduction\n",
    "\n",
    "In machine learning, classification is typically considered a supervised learning task - meaning that we provide a model with data $x$ and desired responses (labels) $y$, and it uses these to fit a function to best map these inputs $x$ to the desired outputs $y$ during training. An example of supervised learning is logistic regression, which we will be implementing to classify our modulated signals.\n",
    "\n",
    "In this notebook we will cover simple machine learning algorithms, suchs as binary and multiclass Logistic Regression, and how to train them to classify our modulation schemes from generated data.\n",
    "\n",
    "## Table of Contents\n",
    "\n",
    "* [2.1 Logistic Regression](#logistic_regression)\n",
    "* [2.2 Generating Training Data](#train_data)\n",
    "* [2.3 Gradient Descent](#sgd)\n",
    "* [2.4 Multiclass Logistic Regression](#multiclass)\n",
    "* [2.5 Conclusion](#conclusion)\n",
    "    \n",
    "Throughout this notebook we will only be using Numpy and Matplotlib to define and train the classifiers. Once you understand the basics you can always leverage specialized machine learning libraries, such as scikit-learn, where a lot of the nitty gritty can be abstracted away."
   ]
  },
  {
   "cell_type": "code",
   "execution_count": 1,
   "metadata": {},
   "outputs": [],
   "source": [
    "import numpy as np\n",
    "import matplotlib.pyplot as plt"
   ]
  },
  {
   "cell_type": "markdown",
   "metadata": {},
   "source": [
    "For convenience we wrapped the data generation and statistics calculating functions from the previous notebook into the helper_functions module, which means we have to import them to be able to generate data for classification again."
   ]
  },
  {
   "cell_type": "code",
   "execution_count": 2,
   "metadata": {},
   "outputs": [],
   "source": [
    "from pystrath_sdr.helper_functions import awgn, generate_bpsk, generate_qpsk, generate_qam, generate_ask4, to_onehot, calculate_statistics"
   ]
  },
  {
   "cell_type": "markdown",
   "metadata": {},
   "source": [
    "We will be using the same data and class labels as in the previous notebook."
   ]
  },
  {
   "cell_type": "code",
   "execution_count": 3,
   "metadata": {},
   "outputs": [],
   "source": [
    "classes = {0: 'BPSK', 1:'QPSK', 2:'16-QAM', 3:'4-ASK'}"
   ]
  },
  {
   "cell_type": "markdown",
   "metadata": {},
   "source": [
    "## 2.1 Logistic Regression <a class=\"anchor\" id=\"logistic_regression\"></a>\n",
    "\n",
    "Binary Logistic Regression is one of the simplest classification algorithms used today - while it may sound similar to linear regression, which is used for curve fitting, logistic regression works on a similar principle with the difference being we try to fit a boundary between two classes. Given our training data $\\{x,y\\}$ we try to fit a hypothesis function $h$ so that $y = h(x,w)$, where $w$ are the feature weights that it needs to learn. If we took our decision tree as an example, we were hard coding weightings for different features, this time we will try to learn them by training a logistic regression model.\n",
    "\n",
    "The logistic regression forward pass is defined as\n",
    "\n",
    "$\\hat{y} = g(xw + b)$\n",
    "\n",
    "where $x$ is our input vector, $\\hat{y}$ is the model prediction (or approximation of the $y$ label), $w$ represents the learned weights and $b$ is an added bias term, which is also learned along with the weights. g(.) is an activation function adding some non-linearity to our model. Typically for logistic regression it is the sigmoid function, defined as:\n",
    "\n",
    "$g(x) = \\frac{1}{1-e^{-x}}$"
   ]
  },
  {
   "cell_type": "code",
   "execution_count": 4,
   "metadata": {},
   "outputs": [],
   "source": [
    "def sigmoid(y):\n",
    "    return 1/(1+np.exp(-y))"
   ]
  },
  {
   "cell_type": "markdown",
   "metadata": {},
   "source": [
    "What the sigmoid function does is squash our input into the range of $\\in{(0,1)}$, where 0 is a negative and 1 is a positive classification."
   ]
  },
  {
   "cell_type": "code",
   "execution_count": 5,
   "metadata": {},
   "outputs": [
    {
     "data": {
      "text/plain": [
       "Text(0.5, 1.0, 'Sigmoid Activation Function')"
      ]
     },
     "execution_count": 5,
     "metadata": {},
     "output_type": "execute_result"
    },
    {
     "data": {
      "image/png": "[encoded data removed]",
      "text/plain": [
       "<Figure size 432x288 with 1 Axes>"
      ]
     },
     "metadata": {
      "needs_background": "light"
     },
     "output_type": "display_data"
    }
   ],
   "source": [
    "x = np.arange(-10,10,0.1)\n",
    "plt.plot(x,sigmoid(x))\n",
    "plt.title('Sigmoid Activation Function')"
   ]
  },
  {
   "cell_type": "markdown",
   "metadata": {},
   "source": [
    "Now we can define the forward pass of our logistic model. **A note on bias**: in some literature bias term $b$ is an extra term that is added in code as an additional variable to the weight vector, in others it is considered another weight, e.g. $w_{0}$. Mathematically these are equivalent - it just means that in the latter case we treat our first weight $w_0$ as the bias, since it gets multiplied by a constant value of 1 in the feature vector $x$.\n",
    "\n",
    "$xw + b = \\begin{bmatrix} x_0,  x_1,  x_2,  x_3,  x_4, x_5  \\end{bmatrix} \\begin{bmatrix} w_0 \\\\ w_1 \\\\ w_2 \\\\ w_3 \\\\ w_4 \\\\ w_5 \\end{bmatrix} + b \\equiv \\begin{bmatrix} 1, x_0, x_1,  x_2,  x_3,  x_4,  x_5  \\end{bmatrix} \\begin{bmatrix} w_0 \\\\ w_1 \\\\ w_2 \\\\ w_3 \\\\ w_4 \\\\ w_5 \\\\ w_6 \\end{bmatrix}$ , where $b=w_0$\n",
    "\n",
    "For simplicity we will consider bias to be another weight to be learned, which means our weight vector will be (7,1), even though our number of features is 6. We can make the matrix multiplies work out by appending an additional 1 to our feature vector. "
   ]
  },
  {
   "cell_type": "code",
   "execution_count": 6,
   "metadata": {},
   "outputs": [],
   "source": [
    "def forward(x, weights):\n",
    "    y = np.dot(x, weights) # weights\n",
    "    z = sigmoid(y) # sigmoid activation\n",
    "    return z"
   ]
  },
  {
   "cell_type": "markdown",
   "metadata": {},
   "source": [
    "We also need a metric to tell our machine learning model how well it is doing, otherwise how will we know if it is learning? These metrics are usually referred to cost (or loss) functions. For logistic regression we use the log loss, as defined:\n",
    "\n",
    "$Cost(y,\\hat{y}) = \\frac{1}{m}\\sum^{m}_{i=0} y_{i} log(\\hat{y_{i}}) + (1 - y_{i}) log(1 - \\hat{y_{i}})$\n",
    "\n",
    "where m is the number of examples, $y$ are the labels, and $\\hat{y}$ are the model predictions. The cost will be high if our predictions are far from the labelled data, and low if all model predictions are correct."
   ]
  },
  {
   "cell_type": "code",
   "execution_count": 7,
   "metadata": {},
   "outputs": [],
   "source": [
    "def cost(x, y, w):\n",
    "    y_hat = forward(x,w)\n",
    "    cost = (np.matmul(-y.T, np.log(y_hat)) - np.matmul((1 -y.T), np.log(1 - y_hat)))/x.shape[0]\n",
    "    return cost"
   ]
  },
  {
   "cell_type": "markdown",
   "metadata": {},
   "source": [
    "## 2.2 Generating training data <a class=\"anchor\" id=\"train_data\"></a>\n",
    "\n",
    "Simple logistic regression is a binary classifier, which means it can only discern between two classes. Here we will generate some training data and evaluate a binary BPSK vs QPSK classifier. Note that the shape of our training data is 7 columns wide, because we added an additional bias term of all ones."
   ]
  },
  {
   "cell_type": "code",
   "execution_count": 8,
   "metadata": {},
   "outputs": [
    {
     "data": {
      "text/plain": [
       "(200, 7)"
      ]
     },
     "execution_count": 8,
     "metadata": {},
     "output_type": "execute_result"
    }
   ],
   "source": [
    "bpsk_train = np.array([calculate_statistics(generate_bpsk(256,30)) for i in range(100)])\n",
    "qpsk_train = np.array([calculate_statistics(generate_qpsk(256,30)) for i in range(100)])\n",
    "\n",
    "x = np.concatenate((bpsk_train, qpsk_train))\n",
    "x = np.concatenate((np.ones((200,1)),x),axis=1) # add bias\n",
    "x.shape"
   ]
  },
  {
   "cell_type": "markdown",
   "metadata": {},
   "source": [
    "We also need to generate corresponding labels. We define BPSK as class 0, meaning we expect an output of 0 for a successful prediction, and QPSK the positive prediction with an output of 1."
   ]
  },
  {
   "cell_type": "code",
   "execution_count": 9,
   "metadata": {},
   "outputs": [
    {
     "data": {
      "text/plain": [
       "(200, 1)"
      ]
     },
     "execution_count": 9,
     "metadata": {},
     "output_type": "execute_result"
    }
   ],
   "source": [
    "bpsk_labels = np.zeros((100,1))\n",
    "qpsk_labels = np.ones((100,1))\n",
    "y = np.concatenate((bpsk_labels, qpsk_labels))\n",
    "y.shape"
   ]
  },
  {
   "cell_type": "markdown",
   "metadata": {},
   "source": [
    "We perform weight initialization by filling up our weight vector with random values. We draw our weights from a normal distribution as we want to keep them small, which helps training - if we are unlucky large **wrong** initial weights can cause large errors, which would require many more gradient descent steps to correct the weights to more optimal values. Remember that we add an additional weight $w_0$ as our bias."
   ]
  },
  {
   "cell_type": "code",
   "execution_count": 10,
   "metadata": {},
   "outputs": [],
   "source": [
    "w = np.random.randn(7,1)"
   ]
  },
  {
   "cell_type": "markdown",
   "metadata": {},
   "source": [
    "## 2.3 Gradient Descent <a class=\"anchor\" id=\"sgd\"></a>\n",
    "\n",
    "Gradient descent is the bread and butter in the vast majority of machine learning algorithms. There are derivatives and other additions one can make, but at the heart of it is usually gradient descent. Here we use the basic version as defined by\n",
    "\n",
    "$\\Delta w = 1/m \\sum^{m}_{i=0} x_{i} (h(x_{i},w) - y_{i})$\n",
    "\n",
    "where $\\Delta w$ is the gradient of our weights, $m$ is the number of training samples, $h$ represents our logistic regression hypothesis function and $y$ are our labels. We use the gradient to nudge our weights in the direction where the cost will be smaller, so that the next time our model sees the same data it can more accurately predict the output. \n",
    "\n",
    "The amount \"nudging\" is controlled by the learning rate $\\alpha$, and we can define the rule for acquiring new weights per gradient descent iteration as:\n",
    "\n",
    "$w = w - \\alpha \\Delta{w}$"
   ]
  },
  {
   "cell_type": "code",
   "execution_count": 11,
   "metadata": {},
   "outputs": [],
   "source": [
    "def gradient_descent(x, y, w, lr):\n",
    "    m = x.shape[0]\n",
    "    h = forward(x, w)\n",
    "    grad = np.matmul(x.T, (h - y)) / m;\n",
    "    w = w - lr * grad\n",
    "    return w"
   ]
  },
  {
   "cell_type": "markdown",
   "metadata": {},
   "source": [
    "Now train our classifier for 200 iterations with a learning rate of $\\alpha = 0.2$. You can try different number of iterations or values of $\\alpha$ to see if you could make it learn faster or achieve a better result. Smaller learning rates result in slow and steady optimization towards a minimum cost however this usually comes at a tradeoff of requiring more gradient descent iterations. A larger learning rate may result in us converging to a good set of weights faster (fewer iterations), but there is a chance of overshooting the minimum or becoming unstable and not being able to learn at all!"
   ]
  },
  {
   "cell_type": "code",
   "execution_count": 12,
   "metadata": {},
   "outputs": [],
   "source": [
    "alpha = 0.2\n",
    "num_iter = 200\n",
    "\n",
    "# predefine a list to store our computed cost after each iteration\n",
    "costs = []\n",
    "\n",
    "for i in range(num_iter):\n",
    "    w = gradient_descent(x,y,w,alpha)\n",
    "    costs.append(cost(x,y,w).squeeze())"
   ]
  },
  {
   "cell_type": "markdown",
   "metadata": {},
   "source": [
    "We can see that our cost is going down as we train the model and update the weights, which is what we expect! If the cost was not going down, one of the things we could try to do is to readjust our learning rate."
   ]
  },
  {
   "cell_type": "code",
   "execution_count": 13,
   "metadata": {},
   "outputs": [
    {
     "data": {
      "text/plain": [
       "Text(0, 0.5, 'Log Loss')"
      ]
     },
     "execution_count": 13,
     "metadata": {},
     "output_type": "execute_result"
    },
    {
     "data": {
      "image/png": "[encoded data removed]",
      "text/plain": [
       "<Figure size 432x288 with 1 Axes>"
      ]
     },
     "metadata": {
      "needs_background": "light"
     },
     "output_type": "display_data"
    }
   ],
   "source": [
    "plt.plot(costs)\n",
    "plt.title('Classification Loss Over Time')\n",
    "plt.xlabel('Iterations, n')\n",
    "plt.ylabel('Log Loss')"
   ]
  },
  {
   "cell_type": "markdown",
   "metadata": {},
   "source": [
    "**Evaluate Binary Logistic Regression**\n",
    "\n",
    "Now that we have the weights of logistic regression, we can define a new prediction function that would not require us to add a bias term to our data, but instead will just use the weight vector."
   ]
  },
  {
   "cell_type": "code",
   "execution_count": 14,
   "metadata": {},
   "outputs": [],
   "source": [
    "def predict(x,w):\n",
    "    \n",
    "    y = np.dot(x, w[1:]) + w[0] # w_0 is our bias\n",
    "    z = 1/(1+np.exp(-y)) # sigmoid activation\n",
    "    \n",
    "    if z >= 0.5:\n",
    "        return 1\n",
    "    else:\n",
    "        return 0"
   ]
  },
  {
   "cell_type": "markdown",
   "metadata": {},
   "source": [
    "Let's generate a new QPSK waveform and see how our network would predict it."
   ]
  },
  {
   "cell_type": "code",
   "execution_count": 15,
   "metadata": {},
   "outputs": [
    {
     "data": {
      "text/plain": [
       "'QPSK'"
      ]
     },
     "execution_count": 15,
     "metadata": {},
     "output_type": "execute_result"
    }
   ],
   "source": [
    "new_data = calculate_statistics(awgn(generate_qpsk(256),30))\n",
    "classes[predict(new_data,w)]"
   ]
  },
  {
   "cell_type": "markdown",
   "metadata": {},
   "source": [
    "So far so good! Now to extend this to a multiclass problem.\n",
    "\n",
    "## 2.4 Multiclass Logistic Regression <a class=\"anchor\" id=\"multiclass\"></a>\n",
    "\n",
    "Binary classification is great if we only have two modulation classes or whether we want to know if signal is present or isn't, etc. To replicate the functionality of our decision tree and scale to a larger number of modulation schemes we need to use multiclass logistic regression. This can be achieved by using one-vs-all training - meaning we create and train a binary classifier for each modulation scheme and train it to differentiate between that modulation scheme and all others bunched together into a single class.\n",
    "\n",
    "Our new prediction function would look something like this:\n",
    "\n",
    "$\\hat{y}_i = \\max\\limits_{i} (g(xw_i + b))$\n",
    "\n",
    "Where for each classifier $i$, we compute the output $\\hat{y}_i$, and take the maximum response of the outputs. Another way of looking at this is we pick the classifier that is most confident in its answer.\n",
    "\n",
    "**Generate training data**\n",
    "\n",
    "We generate 500 examples (or frames) for each modulation scheme. Then concatenate the generated data for each modulation scheme into a single training dataset."
   ]
  },
  {
   "cell_type": "code",
   "execution_count": 16,
   "metadata": {},
   "outputs": [
    {
     "data": {
      "text/plain": [
       "(2000, 7)"
      ]
     },
     "execution_count": 16,
     "metadata": {},
     "output_type": "execute_result"
    }
   ],
   "source": [
    "snr = 20 # train on slightly noisy data, so the resulting model is more robust to noise\n",
    "num_examples = 500\n",
    "\n",
    "# Generate data, and calculate stats vector for each mod scheme\n",
    "bpsk_train = np.array([calculate_statistics(generate_bpsk(256,snr)) for i in range(num_examples)])\n",
    "qpsk_train = np.array([calculate_statistics(generate_qpsk(256,snr)) for i in range(num_examples)])\n",
    "qam_train = np.array([calculate_statistics(generate_qam(256,snr)) for i in range(num_examples)])\n",
    "ask4_train = np.array([calculate_statistics(generate_ask4(256,snr)) for i in range(num_examples)])\n",
    "\n",
    "# Concatenate into a single training dataset\n",
    "x = np.concatenate((bpsk_train, qpsk_train, qam_train, ask4_train))\n",
    "x = np.concatenate((np.ones((x.shape[0],1)),x),axis=1) # add bias\n",
    "x.shape"
   ]
  },
  {
   "cell_type": "markdown",
   "metadata": {},
   "source": [
    "Do the same for labels. Make sure that the number of training examples and labels matches."
   ]
  },
  {
   "cell_type": "code",
   "execution_count": 17,
   "metadata": {},
   "outputs": [
    {
     "data": {
      "text/plain": [
       "(2000,)"
      ]
     },
     "execution_count": 17,
     "metadata": {},
     "output_type": "execute_result"
    }
   ],
   "source": [
    "# Labels for each modulation scheme, int8 so they stay integers for one-hot encoding\n",
    "bpsk_labels = np.ones((bpsk_train.shape[0],), dtype=np.int8)*0\n",
    "qpsk_labels = np.ones((qpsk_train.shape[0],), dtype=np.int8)*1\n",
    "qam_labels = np.ones((qam_train.shape[0],), dtype=np.int8)*2\n",
    "ask4_labels = np.ones((ask4_train.shape[0],), dtype=np.int8)*3\n",
    "\n",
    "y = np.concatenate((bpsk_labels, qpsk_labels, qam_labels, ask4_labels))\n",
    "y.shape"
   ]
  },
  {
   "cell_type": "markdown",
   "metadata": {},
   "source": [
    "Next, since we cannot feed non-binary labels into our individual classifiers, we convert them to one-hot vectors, this allows us treat each column as the training labels for each individual classifier."
   ]
  },
  {
   "cell_type": "code",
   "execution_count": 18,
   "metadata": {},
   "outputs": [
    {
     "name": "stdout",
     "output_type": "stream",
     "text": [
      "(2000, 4)\n"
     ]
    },
    {
     "data": {
      "text/plain": [
       "array([[1., 0., 0., 0.],\n",
       "       [1., 0., 0., 0.],\n",
       "       [1., 0., 0., 0.],\n",
       "       ...,\n",
       "       [0., 0., 0., 1.],\n",
       "       [0., 0., 0., 1.],\n",
       "       [0., 0., 0., 1.]])"
      ]
     },
     "execution_count": 18,
     "metadata": {},
     "output_type": "execute_result"
    }
   ],
   "source": [
    "y_oh = to_onehot(y, num_classes=4)\n",
    "print(y_oh.shape)\n",
    "y_oh"
   ]
  },
  {
   "cell_type": "markdown",
   "metadata": {},
   "source": [
    "**Main training loop**\n",
    "\n",
    "Note that now we represent our model with a 3-dimensional weight vector $h$, where the first dimension is the number of classifiers we will loop over to make a predictions. We will perform the same gradient descent learning as we did for our binary classifier, but will do it in a loop for each of our 4 classifiers."
   ]
  },
  {
   "cell_type": "code",
   "execution_count": 19,
   "metadata": {},
   "outputs": [],
   "source": [
    "# Initialize weight matrix for 4 classifiers\n",
    "h = np.random.randn(4,7,1)\n",
    "\n",
    "# Set training parameters\n",
    "num_iter = 500\n",
    "alpha = 0.25\n",
    "\n",
    "# Predefine array where we will store the cost values for each iteration\n",
    "costs = np.zeros((num_iter,4))\n",
    "\n",
    "# For each classifier\n",
    "for i, w in enumerate(h):\n",
    "    \n",
    "    # Take ith column to make a new label vector\n",
    "    y_ = np.expand_dims(y_oh[:,i],axis=1)\n",
    "\n",
    "    # Train one binary classifier\n",
    "    for n in range(num_iter):\n",
    "        w = gradient_descent(x,y_,w,alpha) # do one gradient descent step\n",
    "        costs[n,i] = cost(x,y_,w).squeeze() # add current cost value\n",
    "    \n",
    "    # add final weights to our array\n",
    "    h[i] = w"
   ]
  },
  {
   "cell_type": "markdown",
   "metadata": {},
   "source": [
    "Now we can plot the individual cost values over the number of iterations. Based on the figure, we can see that all classifiers are learning! Albeit some better than others - just looking at the costs we can see that QPSK will do worse than BPSK, at least in the 20dB range. This means that our training parameters are good enough, but we could certainly improve this by tuning the learning rate and number of iterations."
   ]
  },
  {
   "cell_type": "code",
   "execution_count": 20,
   "metadata": {},
   "outputs": [
    {
     "data": {
      "text/plain": [
       "Text(0, 0.5, 'Log Loss')"
      ]
     },
     "execution_count": 20,
     "metadata": {},
     "output_type": "execute_result"
    },
    {
     "data": {
      "image/png": "[encoded data removed]",
      "text/plain": [
       "<Figure size 432x288 with 1 Axes>"
      ]
     },
     "metadata": {
      "needs_background": "light"
     },
     "output_type": "display_data"
    }
   ],
   "source": [
    "plt.plot(costs)\n",
    "plt.legend(('bpsk', 'qpsk', 'qam', '4-ask'))\n",
    "plt.title('Classification Loss Over Time')\n",
    "plt.xlabel('Iterations, n')\n",
    "plt.ylabel('Log Loss')"
   ]
  },
  {
   "cell_type": "markdown",
   "metadata": {},
   "source": [
    "Now that we have trained all our classifiers, and their weights are defined in $h$, we can define a prediction function for the multiclass case."
   ]
  },
  {
   "cell_type": "code",
   "execution_count": 21,
   "metadata": {},
   "outputs": [],
   "source": [
    "def predict_multiclass(x,h):\n",
    "\n",
    "    predictions = np.zeros(h.shape[0],)\n",
    "    \n",
    "    for i, w in enumerate(h):\n",
    "\n",
    "        y = np.dot(x, w[1:]) + w[0] # weights\n",
    "        predictions[i] = 1/(1+np.exp(-y)) # sigmoid activation\n",
    "\n",
    "    return predictions"
   ]
  },
  {
   "cell_type": "markdown",
   "metadata": {},
   "source": [
    "To test it, we can produce a QAM signal and see what the outputs would look like."
   ]
  },
  {
   "cell_type": "code",
   "execution_count": 22,
   "metadata": {},
   "outputs": [
    {
     "data": {
      "text/plain": [
       "array([0.00331995, 0.11337123, 0.8811218 , 0.08068568])"
      ]
     },
     "execution_count": 22,
     "metadata": {},
     "output_type": "execute_result"
    }
   ],
   "source": [
    "new_data = calculate_statistics(awgn(generate_qam(256),30))\n",
    "predictions = predict_multiclass(new_data,h)\n",
    "predictions"
   ]
  },
  {
   "cell_type": "markdown",
   "metadata": {},
   "source": [
    "The 3rd classifier is by far the most confident in its prediction, which confirms that it is indeed a 16-QAM signal."
   ]
  },
  {
   "cell_type": "code",
   "execution_count": 23,
   "metadata": {},
   "outputs": [
    {
     "data": {
      "text/plain": [
       "'16-QAM'"
      ]
     },
     "execution_count": 23,
     "metadata": {},
     "output_type": "execute_result"
    }
   ],
   "source": [
    "classes[np.argmax(predictions)]"
   ]
  },
  {
   "cell_type": "markdown",
   "metadata": {},
   "source": [
    "**Multiclass logistic regression accuracy evaluation**\n",
    "\n",
    "Now we can evaluate our logistic regression classifier over an SNR range, just like the DT classifier that we hand-coded."
   ]
  },
  {
   "cell_type": "code",
   "execution_count": 24,
   "metadata": {},
   "outputs": [
    {
     "name": "stdout",
     "output_type": "stream",
     "text": [
      "For SNR=0dB, BPSK: 27.20%, QPSK: 98.20, QAM-16: 0.00%, ASK-4: 0.00%\n",
      "For SNR=1dB, BPSK: 33.20%, QPSK: 98.20, QAM-16: 0.00%, ASK-4: 0.00%\n",
      "For SNR=2dB, BPSK: 40.20%, QPSK: 99.00, QAM-16: 0.00%, ASK-4: 0.20%\n",
      "For SNR=3dB, BPSK: 57.80%, QPSK: 99.40, QAM-16: 0.00%, ASK-4: 0.00%\n",
      "For SNR=4dB, BPSK: 85.20%, QPSK: 99.00, QAM-16: 0.00%, ASK-4: 0.80%\n",
      "For SNR=5dB, BPSK: 96.60%, QPSK: 99.40, QAM-16: 0.00%, ASK-4: 0.20%\n",
      "For SNR=6dB, BPSK: 99.80%, QPSK: 99.20, QAM-16: 0.00%, ASK-4: 0.20%\n",
      "For SNR=7dB, BPSK: 99.80%, QPSK: 99.40, QAM-16: 1.60%, ASK-4: 4.20%\n",
      "For SNR=8dB, BPSK: 100.00%, QPSK: 100.00, QAM-16: 9.00%, ASK-4: 11.80%\n",
      "For SNR=9dB, BPSK: 100.00%, QPSK: 99.60, QAM-16: 23.00%, ASK-4: 26.40%\n",
      "For SNR=10dB, BPSK: 100.00%, QPSK: 99.60, QAM-16: 51.00%, ASK-4: 62.20%\n",
      "For SNR=11dB, BPSK: 100.00%, QPSK: 100.00, QAM-16: 73.40%, ASK-4: 84.80%\n",
      "For SNR=12dB, BPSK: 100.00%, QPSK: 99.80, QAM-16: 92.60%, ASK-4: 96.80%\n",
      "For SNR=13dB, BPSK: 100.00%, QPSK: 99.80, QAM-16: 98.60%, ASK-4: 99.40%\n",
      "For SNR=14dB, BPSK: 100.00%, QPSK: 99.80, QAM-16: 99.60%, ASK-4: 100.00%\n",
      "For SNR=15dB, BPSK: 100.00%, QPSK: 100.00, QAM-16: 100.00%, ASK-4: 100.00%\n",
      "For SNR=16dB, BPSK: 100.00%, QPSK: 100.00, QAM-16: 100.00%, ASK-4: 100.00%\n",
      "For SNR=17dB, BPSK: 100.00%, QPSK: 100.00, QAM-16: 100.00%, ASK-4: 100.00%\n",
      "For SNR=18dB, BPSK: 100.00%, QPSK: 99.60, QAM-16: 100.00%, ASK-4: 100.00%\n",
      "For SNR=19dB, BPSK: 100.00%, QPSK: 99.00, QAM-16: 100.00%, ASK-4: 100.00%\n",
      "For SNR=20dB, BPSK: 100.00%, QPSK: 99.20, QAM-16: 100.00%, ASK-4: 100.00%\n",
      "For SNR=21dB, BPSK: 100.00%, QPSK: 98.20, QAM-16: 99.80%, ASK-4: 100.00%\n",
      "For SNR=22dB, BPSK: 100.00%, QPSK: 99.00, QAM-16: 100.00%, ASK-4: 100.00%\n",
      "For SNR=23dB, BPSK: 99.80%, QPSK: 98.20, QAM-16: 100.00%, ASK-4: 100.00%\n",
      "For SNR=24dB, BPSK: 100.00%, QPSK: 98.20, QAM-16: 100.00%, ASK-4: 100.00%\n"
     ]
    }
   ],
   "source": [
    "# Set test parameters\n",
    "snrs = np.arange(0,25)\n",
    "num_examples = 500 # number of frames per modulation scheme\n",
    "num_symbols = 256 # symbols per frame\n",
    "\n",
    "# Instantiate empty lists where accuracy results will be kept for plotting\n",
    "bpsk_results, qpsk_results, qam_results, ask4_results = [], [], [], []\n",
    "\n",
    "for i in range(len(snrs)):\n",
    "    snr = snrs[i]\n",
    "    \n",
    "    # Generate all waveforms\n",
    "    bpsk_data = np.array([generate_bpsk(num_symbols,snr) for i in range(num_examples)])\n",
    "    qpsk_data = np.array([generate_qpsk(num_symbols,snr) for i in range(num_examples)])\n",
    "    qam_data = np.array([generate_qam(num_symbols,snr) for i in range(num_examples)])\n",
    "    ask4_data = np.array([generate_ask4(num_symbols,snr) for i in range(num_examples)])\n",
    "    \n",
    "    # Calculate accuracies\n",
    "    bpsk_acc = np.mean([np.argmax(predict_multiclass(calculate_statistics(x),h))==0 for x in bpsk_data])*100\n",
    "    qpsk_acc = np.mean([np.argmax(predict_multiclass(calculate_statistics(x),h))==1 for x in qpsk_data])*100\n",
    "    qam_acc = np.mean([np.argmax(predict_multiclass(calculate_statistics(x),h))==2 for x in qam_data])*100\n",
    "    ask4_acc = np.mean([np.argmax(predict_multiclass(calculate_statistics(x),h))==3 for x in ask4_data])*100\n",
    "    \n",
    "    # Save results for later plotting\n",
    "    bpsk_results.append(bpsk_acc)\n",
    "    qpsk_results.append(qpsk_acc)\n",
    "    qam_results.append(qam_acc)\n",
    "    ask4_results.append(ask4_acc)\n",
    "    \n",
    "    print('For SNR={}dB, BPSK: {:.2f}%, QPSK: {:.2f}, QAM-16: {:.2f}%, ASK-4: {:.2f}%'.format(snr, bpsk_acc, qpsk_acc, qam_acc, ask4_acc))"
   ]
  },
  {
   "cell_type": "markdown",
   "metadata": {},
   "source": [
    "Plotting the results we see a similar trend to what our DT classifier did, but note a key difference with the QAM-16 results - the DT classifier never achieved 100% accuracy at any SNR for QAM-16, whereas our learned classifier achieved this by the 14dB mark! Similarly for ASK-4, we see a much sharper increase and saturation at 100% that we didn't for our DT classifier."
   ]
  },
  {
   "cell_type": "code",
   "execution_count": 25,
   "metadata": {},
   "outputs": [
    {
     "data": {
      "image/png": "[encoded data removed]",
      "text/plain": [
       "<Figure size 432x288 with 1 Axes>"
      ]
     },
     "metadata": {
      "needs_background": "light"
     },
     "output_type": "display_data"
    }
   ],
   "source": [
    "plt.plot(snrs, bpsk_results)\n",
    "plt.plot(snrs, qpsk_results)\n",
    "plt.plot(snrs, qam_results)\n",
    "plt.plot(snrs, ask4_results)\n",
    "plt.legend(('bpsk', 'qpsk', 'qam-16', 'ask-4'))\n",
    "plt.ylabel('Classification Accuracy, %')\n",
    "plt.xlabel('SNR, dB')\n",
    "plt.title('Multiclass Logistic Regression')\n",
    "plt.show()"
   ]
  },
  {
   "cell_type": "markdown",
   "metadata": {},
   "source": [
    "**Confusion matrix**\n",
    "\n",
    "Similarly, we can plot a new confusion matrix for our learned classifier."
   ]
  },
  {
   "cell_type": "code",
   "execution_count": 26,
   "metadata": {},
   "outputs": [],
   "source": [
    "# Set test parameters\n",
    "snr = 15\n",
    "num_symbols = 128\n",
    "num_examples = 100\n",
    "\n",
    "# Produce the test data\n",
    "bpsk_test = np.array([generate_bpsk(num_symbols,snr) for i in range(num_examples)])\n",
    "qpsk_test = np.array([generate_qpsk(num_symbols,snr) for i in range(num_examples)])\n",
    "qam_test = np.array([generate_qam(num_symbols,snr) for i in range(num_examples)])\n",
    "ask4_test = np.array([generate_ask4(num_symbols,snr) for i in range(num_examples)])\n",
    "\n",
    "# Get results in one-hot encoding form\n",
    "bpsk_predictions = to_onehot(np.argmax([predict_multiclass(x, h) for x in np.array([calculate_statistics(x) for x in bpsk_test])],axis=1),num_classes=4)\n",
    "qpsk_predictions = to_onehot(np.argmax([predict_multiclass(x, h) for x in np.array([calculate_statistics(x) for x in qpsk_test])],axis=1),num_classes=4)\n",
    "qam_predictions = to_onehot(np.argmax([predict_multiclass(x, h) for x in np.array([calculate_statistics(x) for x in qam_test])],axis=1),num_classes=4)\n",
    "ask4_predictions = to_onehot(np.argmax([predict_multiclass(x, h) for x in np.array([calculate_statistics(x) for x in ask4_test])],axis=1),num_classes=4)\n",
    "\n",
    "# Stack results to form a confusion matrix\n",
    "cm_new = np.vstack((np.sum(bpsk_predictions,axis=0), np.sum(qpsk_predictions,axis=0), np.sum(qam_predictions,axis=0), np.sum(ask4_predictions,axis=0)))"
   ]
  },
  {
   "cell_type": "markdown",
   "metadata": {},
   "source": [
    "Plotting the confusion matrix at the same SNR of 15dB, we can see a much cleaner diagonal than in the previous notebook. The confusion between QPSK and 16-QAM is minimzed, likely due to the learned classifier taking advantage of more features than our basic DT implementation."
   ]
  },
  {
   "cell_type": "code",
   "execution_count": 27,
   "metadata": {},
   "outputs": [
    {
     "data": {
      "text/plain": [
       "<matplotlib.colorbar.Colorbar at 0x7f115b2cac10>"
      ]
     },
     "execution_count": 27,
     "metadata": {},
     "output_type": "execute_result"
    },
    {
     "data": {
      "image/png": "[encoded data removed]",
      "text/plain": [
       "<Figure size 432x288 with 2 Axes>"
      ]
     },
     "metadata": {
      "needs_background": "light"
     },
     "output_type": "display_data"
    }
   ],
   "source": [
    "plt.imshow(cm_new, cmap='Blues')\n",
    "plt.xticks([0,1,2,3], ['bpsk', 'qpsk', '16-qam', '4-ask'])\n",
    "plt.yticks([0,1,2,3], ['bpsk', 'qpsk', '16-qam', '4-ask'])\n",
    "plt.ylabel('True Classes')\n",
    "plt.xlabel('Predicted Classes')\n",
    "plt.title('Confusion Matrix')\n",
    "plt.colorbar()"
   ]
  },
  {
   "cell_type": "markdown",
   "metadata": {},
   "source": [
    "## 2.5 Conclusion <a class=\"anchor\" id=\"conclusion\"></a>\n",
    "\n",
    "Here we saw how to improve the results of a manually coded DT classifier by using machine learning and training a logistic regression classifier using simulated data. One of the biggest advantages of approach our problem this way is that we do not have to manually tune individual threshold values for our statistical features, and can just let the model learn these on its own. Ofcourse this comes with the tradeoff of coming up with a good dataset and tuning the training parameters - however as numbers of features and complexity increase, human effort increases drastically and we might be better off scaling with machine learning.\n",
    "\n",
    "The basic principle of training a model using supervised learning that we covered here will persist in even the most advanced machine learning applications. A Deep Learning approach would look very similar, except typically we would not even provide the model the statistical features we computed, as it would be able to figure out the best features to use out of the raw samples (at least in theory).\n",
    "\n",
    "[⬅️ Previous Notebook](01_modulation_classification.ipynb)\n",
    "\n",
    "----\n",
    "----"
   ]
  }
 ],
 "metadata": {
  "kernelspec": {
   "display_name": "Python 3",
   "language": "python",
   "name": "python3"
  },
  "language_info": {
   "codemirror_mode": {
    "name": "ipython",
    "version": 3
   },
   "file_extension": ".py",
   "mimetype": "text/x-python",
   "name": "python",
   "nbconvert_exporter": "python",
   "pygments_lexer": "ipython3",
   "version": "3.8.3"
  }
 },
 "nbformat": 4,
 "nbformat_minor": 4
}
